{
 "cells": [
  {
   "cell_type": "code",
   "execution_count": null,
   "metadata": {},
   "outputs": [],
   "source": [
    "import numpy as np\n",
    "import matplotlib.pyplot as plt\n",
    "from scipy import random\n",
    "from scipy.stats import multivariate_normal\n",
    "# import GMM\n",
    "from GMM import GMM"
   ]
  },
  {
   "cell_type": "code",
   "execution_count": null,
   "metadata": {},
   "outputs": [],
   "source": [
    "def gen_data(k=3, dim=2, points_per_cluster=200, lim=[-10, 10]):\n",
    "    '''\n",
    "    Generates data from a random mixture of Gaussians in a given range.\n",
    "    Will also plot the points in case of 2D.\n",
    "    input:\n",
    "        - k: Number of Gaussian clusters\n",
    "        - dim: Dimension of generated points\n",
    "        - points_per_cluster: Number of points to be generated for each cluster\n",
    "        - lim: Range of mean values\n",
    "    output:\n",
    "        - X: Generated points (points_per_cluster*k, dim)\n",
    "    '''\n",
    "    x = []\n",
    "    mean = random.rand(k, dim)*(lim[1]-lim[0]) + lim[0]\n",
    "    for i in range(k):\n",
    "        cov = random.rand(dim, dim+10)\n",
    "        cov = np.matmul(cov, cov.T)\n",
    "        _x = np.random.multivariate_normal(mean[i], cov, points_per_cluster)\n",
    "        x += list(_x)\n",
    "    x = np.array(x)\n",
    "    if(dim == 2):\n",
    "        fig = plt.figure()\n",
    "        ax = fig.gca()\n",
    "        ax.scatter(x[:,0], x[:,1], s=3, alpha=0.4)\n",
    "        ax.autoscale(enable=True) \n",
    "    return x"
   ]
  },
  {
   "cell_type": "code",
   "execution_count": null,
   "metadata": {},
   "outputs": [],
   "source": [
    "def plot(title):\n",
    "    '''\n",
    "    Draw the data points and the fitted mixture model.\n",
    "    input:\n",
    "        - title: title of plot and name with which it will be saved.\n",
    "    '''\n",
    "    fig = plt.figure(figsize=(8, 8))\n",
    "    ax = fig.gca()\n",
    "    ax.scatter(X[:, 0], X[:, 1], s=3, alpha=0.4)\n",
    "    ax.scatter(gmm.mu[:, 0], gmm.mu[:, 1], c=gmm.colors)\n",
    "    gmm.draw(ax, lw=3)\n",
    "    ax.set_xlim((-12, 12))\n",
    "    ax.set_ylim((-12, 12))\n",
    "    \n",
    "    plt.title(title)\n",
    "    plt.savefig(title.replace(':', '_'))\n",
    "    plt.show()\n",
    "    plt.clf()"
   ]
  },
  {
   "cell_type": "code",
   "execution_count": null,
   "metadata": {},
   "outputs": [],
   "source": [
    "# Generate random 2D data with 3 clusters \n",
    "X = gen_data(k=3, dim=2, points_per_cluster=1000)"
   ]
  },
  {
   "cell_type": "code",
   "execution_count": null,
   "metadata": {},
   "outputs": [],
   "source": [
    "# Create a Gaussian Mixture Model\n",
    "gmm = GMM(3, 2)"
   ]
  },
  {
   "cell_type": "code",
   "execution_count": null,
   "metadata": {},
   "outputs": [],
   "source": [
    "# Training the GMM using EM\n",
    "\n",
    "# Initialize EM algo with data\n",
    "gmm.init_em(X)\n",
    "num_iters = 30\n",
    "# Saving log-likelihood\n",
    "log_likelihood = [gmm.log_likelihood(X)]\n",
    "# plotting\n",
    "plot(\"Iteration:  0\")\n",
    "for e in range(num_iters):\n",
    "    # E-step\n",
    "    gmm.e_step()\n",
    "    # M-step\n",
    "    gmm.m_step()\n",
    "    # Computing log-likelihood\n",
    "    log_likelihood.append(gmm.log_likelihood(X))\n",
    "    print(\"Iteration: {}, log-likelihood: {:.4f}\".format(e+1, log_likelihood[-1]))\n",
    "    # plotting\n",
    "    plot(title=\"Iteration: \" + str(e+1))"
   ]
  },
  {
   "cell_type": "code",
   "execution_count": null,
   "metadata": {},
   "outputs": [],
   "source": [
    "# Plot log-likelihood\n",
    "plt.plot(log_likelihood[1:], marker='.')"
   ]
  },
  {
   "cell_type": "code",
   "execution_count": null,
   "metadata": {},
   "outputs": [],
   "source": [
    "# Plotting for creating GIF of log-likehood graph\n",
    "for i in range(1, len(log_likelihood)):\n",
    "    plt.title(\"log-likelihood for iteration: \" + str(i))\n",
    "    plt.plot(log_likelihood[1:1+i], marker='.')\n",
    "    axes = plt.axes()\n",
    "    axes.set_ylim([min(log_likelihood[1:])-50, max(log_likelihood[1:])+50])\n",
    "    axes.set_xlim([-2, 32])\n",
    "    plt.savefig(\"ll_\" + str(i))\n",
    "    plt.clf()"
   ]
  }
 ],
 "metadata": {
  "kernelspec": {
   "display_name": "Python 3.9.12 ('stable')",
   "language": "python",
   "name": "python3"
  },
  "language_info": {
   "name": "python",
   "version": "3.9.12"
  },
  "orig_nbformat": 4,
  "vscode": {
   "interpreter": {
    "hash": "0a4714a1f2bfcd6c0055b262f14d81be705ebfd153fa9541e1efb373fe9b16f2"
   }
  }
 },
 "nbformat": 4,
 "nbformat_minor": 2
}
